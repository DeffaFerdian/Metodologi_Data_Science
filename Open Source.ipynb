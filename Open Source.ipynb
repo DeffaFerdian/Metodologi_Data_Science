{
 "cells": [
  {
   "cell_type": "code",
   "execution_count": null,
   "metadata": {
    "id": "bNV1SW8qvv0T"
   },
   "outputs": [],
   "source": [
    "import pandas as pd\n",
    "from sklearn.model_selection import train_test_split\n",
    "from sklearn.linear_model import LogisticRegression\n",
    "from sklearn import metrics\n",
    "import seaborn as sn\n",
    "import matplotlib.pyplot as plt"
   ]
  },
  {
   "cell_type": "code",
   "execution_count": null,
   "metadata": {
    "id": "mOQSWERKxiCt"
   },
   "outputs": [],
   "source": [
    "import pandas as pd\n",
    "candidates = {\n",
    "'umur': [20,21,20,20,22,20,25,21,18,21,54,21,22,23,22,22,23,21,21,20,20,19,21,22,22,21,19,21,25,19,21,21,21,20,22,19,22,21],\n",
    "'tanya1':[100,100,100,100,100,100,100,100,100,100,100,100,100,100,100,100,100,50,100,100,100,100,100,100,100,50,100,100,100,100,100,50,100,100,50,100,100,100],\n",
    "'tanya2':[100,100,100,100,100,100,100,100,100,50,100,100,100,100,100,100,100,100,100,100,100,100,50,100,100,100,100,50,100,50,100,100,100,100,100,100,100,100],\n",
    "'hasil': [1,1,1,1,1,1,1,1,1,0,1,1,1,1,1,1,1,1,1,1,0,1,1,0,1,1,1,1,0,1,1,1,1,1,1,0,1,0]\n",
    "}"
   ]
  },
  {
   "cell_type": "code",
   "execution_count": null,
   "metadata": {
    "colab": {
     "base_uri": "https://localhost:8080/"
    },
    "id": "T5T_HIjlzDOr",
    "outputId": "70442db9-8f1d-4db9-b021-92a427840712"
   },
   "outputs": [
    {
     "name": "stdout",
     "output_type": "stream",
     "text": [
      "    umur  tanya1  tanya2  hasil\n",
      "0     20     100     100      1\n",
      "1     21     100     100      1\n",
      "2     20     100     100      1\n",
      "3     20     100     100      1\n",
      "4     22     100     100      1\n",
      "5     20     100     100      1\n",
      "6     25     100     100      1\n",
      "7     21     100     100      1\n",
      "8     18     100     100      1\n",
      "9     21     100      50      0\n",
      "10    54     100     100      1\n",
      "11    21     100     100      1\n",
      "12    22     100     100      1\n",
      "13    23     100     100      1\n",
      "14    22     100     100      1\n",
      "15    22     100     100      1\n",
      "16    23     100     100      1\n",
      "17    21      50     100      1\n",
      "18    21     100     100      1\n",
      "19    20     100     100      1\n",
      "20    20     100     100      0\n",
      "21    19     100     100      1\n",
      "22    21     100      50      1\n",
      "23    22     100     100      0\n",
      "24    22     100     100      1\n",
      "25    21      50     100      1\n",
      "26    19     100     100      1\n",
      "27    21     100      50      1\n",
      "28    25     100     100      0\n",
      "29    19     100      50      1\n",
      "30    21     100     100      1\n",
      "31    21      50     100      1\n",
      "32    21     100     100      1\n",
      "33    20     100     100      1\n",
      "34    22      50     100      1\n",
      "35    19     100     100      0\n",
      "36    22     100     100      1\n",
      "37    21     100     100      0\n"
     ]
    }
   ],
   "source": [
    "df = pd.DataFrame(candidates, columns = ['umur','tanya1','tanya2','hasil'])\n",
    "print(df)"
   ]
  },
  {
   "cell_type": "code",
   "execution_count": null,
   "metadata": {
    "id": "K4Q6H9BDzQZv"
   },
   "outputs": [],
   "source": [
    "X = df[['tanya1','tanya2']]\n",
    "y = df['hasil']"
   ]
  },
  {
   "cell_type": "code",
   "execution_count": null,
   "metadata": {
    "id": "8XaYpdX0zYaJ"
   },
   "outputs": [],
   "source": [
    "X_train, X_test, y_train, y_test = train_test_split(X, y, test_size = 0.25, random_state = 0)"
   ]
  },
  {
   "cell_type": "code",
   "execution_count": null,
   "metadata": {
    "id": "8jCTwVknzccp"
   },
   "outputs": [],
   "source": [
    "logistic_regression = LogisticRegression(solver='liblinear')\n",
    "logistic_regression.fit(X_train, y_train)\n",
    "y_pred = logistic_regression.predict(X_test)"
   ]
  },
  {
   "cell_type": "code",
   "execution_count": null,
   "metadata": {
    "colab": {
     "base_uri": "https://localhost:8080/",
     "height": 300
    },
    "id": "bAgAgT5Wzgrf",
    "outputId": "4646922d-3b70-4927-fa06-b161b5bd9325"
   },
   "outputs": [
    {
     "data": {
      "text/plain": [
       "<matplotlib.axes._subplots.AxesSubplot at 0x7f539bc65fd0>"
      ]
     },
     "execution_count": 43,
     "metadata": {},
     "output_type": "execute_result"
    },
    {
     "data": {
      "image/png": "[encoded data removed]",
      "text/plain": [
       "<Figure size 432x288 with 2 Axes>"
      ]
     },
     "metadata": {
      "needs_background": "light"
     },
     "output_type": "display_data"
    }
   ],
   "source": [
    "confusion_matrix = pd.crosstab(y_test, y_pred, rownames=['Actual'], colnames=['Predicted'])\n",
    "sn.heatmap(confusion_matrix, annot=True)"
   ]
  },
  {
   "cell_type": "code",
   "execution_count": null,
   "metadata": {
    "colab": {
     "base_uri": "https://localhost:8080/"
    },
    "id": "l4-DZ5cIzn-c",
    "outputId": "326099eb-113c-4d33-f726-f8bcd8398afe"
   },
   "outputs": [
    {
     "name": "stdout",
     "output_type": "stream",
     "text": [
      "Accuracy:  0.7\n"
     ]
    }
   ],
   "source": [
    "print('Accuracy: ', metrics.accuracy_score(y_test, y_pred))\n",
    "plt.show()"
   ]
  },
  {
   "cell_type": "code",
   "execution_count": null,
   "metadata": {
    "colab": {
     "base_uri": "https://localhost:8080/"
    },
    "id": "KoztVYXA0AI6",
    "outputId": "632e2b5d-28bf-4064-8ec0-9d7c037bbee7"
   },
   "outputs": [
    {
     "name": "stdout",
     "output_type": "stream",
     "text": [
      "    tanya1  tanya2\n",
      "22     100      50\n",
      "29     100      50\n",
      "16     100     100\n",
      "15     100     100\n",
      "11     100     100\n",
      "20     100     100\n",
      "26     100     100\n",
      "10     100     100\n",
      "25      50     100\n",
      "2      100     100\n",
      "[0 0 1 1 1 1 1 1 1 1]\n"
     ]
    }
   ],
   "source": [
    "print (X_test) #test dataset\n",
    "print (y_pred) #predicted values"
   ]
  },
  {
   "cell_type": "code",
   "execution_count": null,
   "metadata": {
    "id": "fE2qr3mm1vui"
   },
   "outputs": [],
   "source": [
    "import pandas as pd\n",
    "from sklearn.model_selection import train_test_split\n",
    "from sklearn.linear_model import LogisticRegression"
   ]
  },
  {
   "cell_type": "code",
   "execution_count": null,
   "metadata": {
    "id": "7pcFvadQ17xi"
   },
   "outputs": [],
   "source": [
    "candidates = {\n",
    "'umur': [20,21,20,20,22,20,25,21,18,21,54,21,22,23,22,22,23,21,21,20,20,19,21,22,22,21,19,21,25,19,21,21,21,20,22,19,22,21],\n",
    "'tanya1':[100,100,100,100,100,100,100,100,100,100,100,100,100,100,100,100,100,50,100,100,100,100,100,100,100,50,100,100,100,100,100,50,100,100,50,100,100,100],\n",
    "'tanya2':[100,100,100,100,100,100,100,100,100,50,100,100,100,100,100,100,100,100,100,100,100,100,50,100,100,100,100,50,100,50,100,100,100,100,100,100,100,100],\n",
    "'hasil': [1,1,1,1,1,1,1,1,1,0,1,1,1,1,1,1,1,1,1,1,0,1,1,0,1,1,1,1,0,1,1,1,1,1,1,0,1,0]\n",
    "}"
   ]
  },
  {
   "cell_type": "code",
   "execution_count": null,
   "metadata": {
    "colab": {
     "base_uri": "https://localhost:8080/"
    },
    "id": "nmYJbYwz2EdN",
    "outputId": "027de364-6990-46d4-f007-a77db6847c08"
   },
   "outputs": [
    {
     "name": "stdout",
     "output_type": "stream",
     "text": [
      "    umur  tanya1  tanya2  hasil\n",
      "0     20     100     100      1\n",
      "1     21     100     100      1\n",
      "2     20     100     100      1\n",
      "3     20     100     100      1\n",
      "4     22     100     100      1\n",
      "5     20     100     100      1\n",
      "6     25     100     100      1\n",
      "7     21     100     100      1\n",
      "8     18     100     100      1\n",
      "9     21     100      50      0\n",
      "10    54     100     100      1\n",
      "11    21     100     100      1\n",
      "12    22     100     100      1\n",
      "13    23     100     100      1\n",
      "14    22     100     100      1\n",
      "15    22     100     100      1\n",
      "16    23     100     100      1\n",
      "17    21      50     100      1\n",
      "18    21     100     100      1\n",
      "19    20     100     100      1\n",
      "20    20     100     100      0\n",
      "21    19     100     100      1\n",
      "22    21     100      50      1\n",
      "23    22     100     100      0\n",
      "24    22     100     100      1\n",
      "25    21      50     100      1\n",
      "26    19     100     100      1\n",
      "27    21     100      50      1\n",
      "28    25     100     100      0\n",
      "29    19     100      50      1\n",
      "30    21     100     100      1\n",
      "31    21      50     100      1\n",
      "32    21     100     100      1\n",
      "33    20     100     100      1\n",
      "34    22      50     100      1\n",
      "35    19     100     100      0\n",
      "36    22     100     100      1\n",
      "37    21     100     100      0\n"
     ]
    }
   ],
   "source": [
    "df = pd.DataFrame(candidates,columns= ['umur','tanya1','tanya2','hasil'])\n",
    "print(df)"
   ]
  },
  {
   "cell_type": "code",
   "execution_count": null,
   "metadata": {
    "id": "k49gou-P2MXy"
   },
   "outputs": [],
   "source": [
    "X = df[['umur', 'tanya1','tanya2']]\n",
    "y = df['hasil']"
   ]
  },
  {
   "cell_type": "code",
   "execution_count": null,
   "metadata": {
    "id": "wm05opZa2T62"
   },
   "outputs": [],
   "source": [
    "X_train,X_test,y_train,y_test = train_test_split(X,y,test_size=0.25,random_state=0)  \n",
    "#in this case, you may choose to set the test_size=0. You should get the same prediction here"
   ]
  },
  {
   "cell_type": "code",
   "execution_count": null,
   "metadata": {
    "colab": {
     "base_uri": "https://localhost:8080/"
    },
    "id": "L0PcX-Rs2Z6R",
    "outputId": "2e63c5d7-36eb-4d62-f2e2-72a8df83e7c8"
   },
   "outputs": [
    {
     "data": {
      "text/plain": [
       "LogisticRegression(solver='liblinear')"
      ]
     },
     "execution_count": 58,
     "metadata": {},
     "output_type": "execute_result"
    }
   ],
   "source": [
    "logistic_regression= LogisticRegression(solver='liblinear')\n",
    "logistic_regression.fit(X_train,y_train)"
   ]
  },
  {
   "cell_type": "code",
   "execution_count": null,
   "metadata": {
    "id": "aMbfL9uU2eht"
   },
   "outputs": [],
   "source": [
    "new_candidates = {'umur': [22,27,19,20,23],\n",
    "                  'tanya1':[100,50,100,50,50],\n",
    "                  'tanya2':[50,50,50,100,100]\n",
    "                  }"
   ]
  },
  {
   "cell_type": "code",
   "execution_count": null,
   "metadata": {
    "id": "Omnwq7Gv2sGt"
   },
   "outputs": [],
   "source": [
    "df2 = pd.DataFrame(new_candidates,columns= ['umur', 'tanya1','tanya2'])\n",
    "y_pred=logistic_regression.predict(df2)"
   ]
  },
  {
   "cell_type": "code",
   "execution_count": null,
   "metadata": {
    "colab": {
     "base_uri": "https://localhost:8080/"
    },
    "id": "eUWNNobc2x7f",
    "outputId": "87164cf2-abb6-4f3f-ea8f-5f490a1f5cd2"
   },
   "outputs": [
    {
     "name": "stdout",
     "output_type": "stream",
     "text": [
      "   umur  tanya1  tanya2\n",
      "0    22     100      50\n",
      "1    27      50      50\n",
      "2    19     100      50\n",
      "3    20      50     100\n",
      "4    23      50     100\n",
      "[0 1 0 1 1]\n"
     ]
    }
   ],
   "source": [
    "print (df2)\n",
    "print (y_pred)"
   ]
  }
 ],
 "metadata": {
  "colab": {
   "collapsed_sections": [],
   "name": "DefMDS.ipynb",
   "provenance": []
  },
  "kernelspec": {
   "display_name": "Python 3 (ipykernel)",
   "language": "python",
   "name": "python3"
  },
  "language_info": {
   "codemirror_mode": {
    "name": "ipython",
    "version": 3
   },
   "file_extension": ".py",
   "mimetype": "text/x-python",
   "name": "python",
   "nbconvert_exporter": "python",
   "pygments_lexer": "ipython3",
   "version": "3.9.7"
  }
 },
 "nbformat": 4,
 "nbformat_minor": 1
}
